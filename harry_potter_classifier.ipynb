{
 "cells": [
  {
   "cell_type": "markdown",
   "id": "11bee773",
   "metadata": {},
   "source": [
    "# HARRY POTTER CLASSIFIER"
   ]
  },
  {
   "cell_type": "code",
   "execution_count": null,
   "id": "99f8905e",
   "metadata": {},
   "outputs": [],
   "source": [
    "!pip install pandas numpy matplotlib seaborn scikit-learn graphviz"
   ]
  },
  {
   "cell_type": "code",
   "execution_count": null,
   "id": "18c63af5",
   "metadata": {},
   "outputs": [],
   "source": [
    "import pandas as pd\n",
    "from prepare_training_data import prepare_splits, train_all_models, evaluate_all\n",
    "from visualize import visualize_all, plot_class_distributions, plot_original_distribution, analyze_accuracy_vs_depth"
   ]
  },
  {
   "cell_type": "code",
   "execution_count": null,
   "id": "b4f7cdb7",
   "metadata": {},
   "outputs": [],
   "source": [
    "data_path = \"Data/harry_potter_students.csv\"\n",
    "hp_df = pd.read_csv(data_path)\n",
    "hp_df.shape"
   ]
  },
  {
   "cell_type": "code",
   "execution_count": null,
   "id": "7876cafa",
   "metadata": {},
   "outputs": [],
   "source": [
    "feature = hp_df.drop(['House'], axis=1)\n",
    "label = hp_df['House']"
   ]
  },
  {
   "cell_type": "code",
   "execution_count": null,
   "id": "755ed2ce",
   "metadata": {},
   "outputs": [],
   "source": [
    "plot_original_distribution(label, \"House distribution on original dataset\")"
   ]
  },
  {
   "cell_type": "code",
   "execution_count": null,
   "id": "4454719f",
   "metadata": {},
   "outputs": [],
   "source": [
    "split_portions = [(0.4, 0.6), (0.6, 0.4), (0.8, 0.2), (0.9, 0.1)]\n",
    "data_sets =  prepare_splits(feature, label, split_portions)"
   ]
  },
  {
   "cell_type": "code",
   "execution_count": null,
   "id": "14cdde16",
   "metadata": {},
   "outputs": [],
   "source": [
    "plot_class_distributions(data_sets, split_portions, \"House distribution\")"
   ]
  },
  {
   "cell_type": "code",
   "execution_count": null,
   "id": "812d6f41",
   "metadata": {},
   "outputs": [],
   "source": [
    "# train data\n",
    "clfs = train_all_models(data_sets)\n",
    "# visualize the trees based on trained models of datasets (clfs)\n",
    "visualize_all(clfs, \n",
    "              feature_names=feature.columns.tolist(), \n",
    "              class_names=[\"Hufflepuff\", \"Gryffindor\", \"Ravenclaw\", \"Slytherin\"])"
   ]
  },
  {
   "cell_type": "code",
   "execution_count": null,
   "id": "2c6991fc",
   "metadata": {},
   "outputs": [],
   "source": [
    "evaluate_all(clfs=clfs, \n",
    "             datasets=data_sets, \n",
    "             class_names=[\"Hufflepuff\", \n",
    "                          \"Gryffindor\", \n",
    "                          \"Ravenclaw\", \n",
    "                          \"Slytherin\"])"
   ]
  },
  {
   "cell_type": "code",
   "execution_count": null,
   "id": "2e3b3ca1",
   "metadata": {},
   "outputs": [],
   "source": [
    "result = analyze_accuracy_vs_depth( dataset=data_sets[2], \n",
    "                                    feature_names=feature.columns.tolist(), \n",
    "                                    class_names=[\"Hufflepuff\", \n",
    "                                                 \"Gryffindor\", \n",
    "                                                 \"Ravenclaw\", \n",
    "                                                 \"Slytherin\"])\n",
    "print(result)"
   ]
  },
  {
   "cell_type": "code",
   "execution_count": null,
   "id": "bb3bf0b3",
   "metadata": {},
   "outputs": [],
   "source": []
  }
 ],
 "metadata": {
  "kernelspec": {
   "display_name": "base",
   "language": "python",
   "name": "python3"
  },
  "language_info": {
   "codemirror_mode": {
    "name": "ipython",
    "version": 3
   },
   "file_extension": ".py",
   "mimetype": "text/x-python",
   "name": "python",
   "nbconvert_exporter": "python",
   "pygments_lexer": "ipython3",
   "version": "3.12.7"
  }
 },
 "nbformat": 4,
 "nbformat_minor": 5
}
