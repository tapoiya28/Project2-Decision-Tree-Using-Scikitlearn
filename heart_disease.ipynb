{
 "cells": [
  {
   "cell_type": "markdown",
   "id": "dc993f7f",
   "metadata": {},
   "source": [
    "# 🧠 Project 2 - Decision Tree Classifier\n",
    "This notebook demonstrates how to prepare data, train decision trees, visualize them, and evaluate performance on the UCI Heart Disease dataset."
   ]
  },
  {
   "cell_type": "code",
   "execution_count": null,
   "id": "c5e5a8de",
   "metadata": {},
   "outputs": [],
   "source": [
    "!pip install pandas numpy matplotlib seaborn scikit-learn graphviz"
   ]
  },
  {
   "cell_type": "code",
   "execution_count": null,
   "id": "e3f95dc8",
   "metadata": {},
   "outputs": [],
   "source": [
    "import pandas as pd\n",
    "from prepare_training_data import prepare_splits, train_all_models, evaluate_all\n",
    "from visualize import visualize_all, plot_class_distributions, plot_original_distribution, analyze_accuracy_vs_depth"
   ]
  },
  {
   "cell_type": "code",
   "execution_count": null,
   "id": "8f14bd8a",
   "metadata": {},
   "outputs": [],
   "source": [
    "dataset_path = \"Data/heart_disease.csv\"\n",
    "# Initialization\n",
    "hd_df = pd.read_csv(dataset_path)\n",
    "# feature: columns that are not target\n",
    "    # \"target\": Determine target\n",
    "    # axis=1: 1 if we want to remove column(target), 0 if we want to remove row\n",
    "feature = hd_df.drop(\"target\", axis=1)\n",
    "# y: column that is target\n",
    "y = hd_df[\"target\"]\n",
    "y = y.apply(lambda x: 1 if x > 0 else 0)\n",
    "print(y.unique())"
   ]
  },
  {
   "cell_type": "code",
   "execution_count": null,
   "id": "5e3c3055",
   "metadata": {},
   "outputs": [],
   "source": [
    "# Show the chart of original data\n",
    "plot_original_distribution(y, \"Original Heart Dataset\")"
   ]
  },
  {
   "cell_type": "code",
   "execution_count": null,
   "id": "d3ede58f",
   "metadata": {},
   "outputs": [],
   "source": [
    "# set up the proportions\n",
    "splits = [(0.4, 0.6), (0.6, 0.4), (0.8, 0.2), (0.9, 0.1)]\n",
    "# Implement preparing data \n",
    "datasets = prepare_splits(feature, y, splits)"
   ]
  },
  {
   "cell_type": "code",
   "execution_count": null,
   "id": "8111174f",
   "metadata": {},
   "outputs": [],
   "source": [
    "# show charts of datasets after we \"preparing\" \n",
    "plot_class_distributions(datasets, splits, \"Heart Disease\")"
   ]
  },
  {
   "cell_type": "code",
   "execution_count": null,
   "id": "959f017b",
   "metadata": {},
   "outputs": [],
   "source": [
    "# train data\n",
    "clfs = train_all_models(datasets)\n",
    "# visualize the trees based on trained models of datasets (clfs)\n",
    "visualize_all(clfs, feature_names=feature.columns.tolist(), class_names=[\"No disease\", \"Disease\"])"
   ]
  },
  {
   "cell_type": "code",
   "execution_count": null,
   "id": "967406db",
   "metadata": {},
   "outputs": [],
   "source": [
    "evaluate_all(clfs, datasets, class_names=[\"No disease\", \"Disease\"])"
   ]
  },
  {
   "cell_type": "code",
   "execution_count": null,
   "id": "75ddd96e",
   "metadata": {},
   "outputs": [],
   "source": [
    "results_df = analyze_accuracy_vs_depth(\n",
    "    dataset=datasets[2], # 80/20 split\n",
    "    feature_names=X.columns.tolist(),\n",
    "    class_names=[\"No disease\", \"Disease\"]\n",
    ")\n",
    "\n",
    "print(results_df)"
   ]
  },
  {
   "cell_type": "code",
   "execution_count": null,
   "id": "04082ef0-b8ff-454c-b495-65cf798af378",
   "metadata": {},
   "outputs": [],
   "source": []
  }
 ],
 "metadata": {
  "kernelspec": {
   "display_name": "base",
   "language": "python",
   "name": "python3"
  },
  "language_info": {
   "codemirror_mode": {
    "name": "ipython",
    "version": 3
   },
   "file_extension": ".py",
   "mimetype": "text/x-python",
   "name": "python",
   "nbconvert_exporter": "python",
   "pygments_lexer": "ipython3",
   "version": "3.12.7"
  }
 },
 "nbformat": 4,
 "nbformat_minor": 5
}
